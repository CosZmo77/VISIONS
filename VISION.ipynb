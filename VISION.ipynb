{
  "nbformat": 4,
  "nbformat_minor": 0,
  "metadata": {
    "colab": {
      "provenance": []
    },
    "kernelspec": {
      "name": "python3",
      "display_name": "Python 3"
    },
    "language_info": {
      "name": "python"
    }
  },
  "cells": [
    {
      "cell_type": "code",
      "execution_count": 1,
      "metadata": {
        "id": "1dxdhsD_lTRC"
      },
      "outputs": [],
      "source": [
        "import pandas as pd\n",
        "import numpy as np\n",
        "import tensorflow as tf\n",
        "from tensorflow.keras.models import Sequential\n",
        "from tensorflow.keras.layers import Dense, LSTM, Dropout\n",
        "from sklearn.preprocessing import MinMaxScaler\n"
      ]
    },
    {
      "cell_type": "code",
      "source": [
        "activity_data = pd.read_csv('activity_data.csv')\n",
        "activity_data = activity_data.drop(['Date', 'Location'], axis=1)  # drop non-numerical columns\n",
        "activity_data = activity_data.values  # convert to numpy array\n",
        "activity_data = activity_data.astype('float32')  # convert to float32 for compatibility\n"
      ],
      "metadata": {
        "id": "PstrIZgZlXjU"
      },
      "execution_count": null,
      "outputs": []
    },
    {
      "cell_type": "code",
      "source": [
        "train_data = activity_data[:800, :-1]\n",
        "train_labels = activity_data[:800, -1]\n",
        "test_data = activity_data[800:, :-1]\n",
        "test_labels = activity_data[800:, -1]\n"
      ],
      "metadata": {
        "id": "CX3YGcW3luaP"
      },
      "execution_count": null,
      "outputs": []
    },
    {
      "cell_type": "code",
      "source": [
        "scaler = MinMaxScaler(feature_range=(0, 1))\n",
        "train_data_scaled = scaler.fit_transform(train_data)\n",
        "test_data_scaled = scaler.transform(test_data)\n"
      ],
      "metadata": {
        "id": "-7yOL0J4mgjw"
      },
      "execution_count": null,
      "outputs": []
    },
    {
      "cell_type": "code",
      "source": [
        "window_size = 10\n",
        "\n",
        "X_train = []\n",
        "y_train = []\n",
        "\n",
        "for i in range(window_size, len(train_data_scaled)):\n",
        "    X_train.append(train_data_scaled[i - window_size:i, :])\n",
        "    y_train.append(train_labels[i])\n",
        "\n",
        "X_train, y_train = np.array(X_train), np.array(y_train)\n"
      ],
      "metadata": {
        "id": "p8CvbsEVmiGX"
      },
      "execution_count": null,
      "outputs": []
    },
    {
      "cell_type": "code",
      "source": [
        "X_test = []\n",
        "y_test = []\n",
        "\n",
        "for i in range(window_size, len(test_data_scaled)):\n",
        "    X_test.append(test_data_scaled[i - window_size:i, :])\n",
        "    y_test.append(test_labels[i])\n",
        "\n",
        "X_test, y_test = np.array(X_test), np.array(y_test)\n"
      ],
      "metadata": {
        "id": "GrDj0jnqmkFm"
      },
      "execution_count": null,
      "outputs": []
    },
    {
      "cell_type": "code",
      "source": [
        "model = Sequential([\n",
        "    LSTM(units=50, return_sequences=True, input_shape=(X_train.shape[1], X_train.shape[2])),\n",
        "    Dropout(0.2),\n",
        "    LSTM(units=50, return_sequences=True),\n",
        "    Dropout(0.2),\n",
        "    LSTM(units=50),\n",
        "    Dropout(0.2),\n",
        "    Dense(units=1)\n",
        "])\n"
      ],
      "metadata": {
        "id": "qJkhVi3kml5L"
      },
      "execution_count": null,
      "outputs": []
    },
    {
      "cell_type": "code",
      "source": [
        "model.compile(optimizer='adam', loss='mse')\n",
        "history = model.fit(X_train, y_train, epochs=50, batch_size=32, validation_data=(X_test, y_test))\n"
      ],
      "metadata": {
        "id": "apl1wilSmnuk"
      },
      "execution_count": null,
      "outputs": []
    },
    {
      "cell_type": "code",
      "source": [
        "predicted_labels = model.predict(X_test)\n"
      ],
      "metadata": {
        "id": "HrNQBdC6mpRd"
      },
      "execution_count": null,
      "outputs": []
    },
    {
      "cell_type": "code",
      "source": [
        "import matplotlib.pyplot as plt\n",
        "\n",
        "plt.plot(history.history['loss'], label='Training Loss')\n",
        "plt.plot(history.history['val_loss'], label='Validation Loss')\n",
        "plt.legend()\n",
        "plt.show()\n"
      ],
      "metadata": {
        "id": "xVRLExSlmqur"
      },
      "execution_count": null,
      "outputs": []
    },
    {
      "cell_type": "code",
      "source": [],
      "metadata": {
        "id": "yVgMbKuCmq1P"
      },
      "execution_count": null,
      "outputs": []
    }
  ]
}